{
  "nbformat": 4,
  "nbformat_minor": 0,
  "metadata": {
    "colab": {
      "name": "Ex3_MNIST_Classifier_with_Convolution.ipynb",
      "version": "0.3.2",
      "provenance": [],
      "collapsed_sections": [],
      "include_colab_link": true
    },
    "kernelspec": {
      "name": "python3",
      "display_name": "Python 3"
    },
    "accelerator": "GPU"
  },
  "cells": [
    {
      "cell_type": "markdown",
      "metadata": {
        "id": "view-in-github",
        "colab_type": "text"
      },
      "source": [
        "<a href=\"https://colab.research.google.com/github/sytan98/Machine-Learning-With-Tensorflow/blob/master/Ex3_MNIST_Classifier_with_Convolution.ipynb\" target=\"_parent\"><img src=\"https://colab.research.google.com/assets/colab-badge.svg\" alt=\"Open In Colab\"/></a>"
      ]
    },
    {
      "cell_type": "markdown",
      "metadata": {
        "id": "iQjHqsmTAVLU",
        "colab_type": "text"
      },
      "source": [
        "## Exercise 3\n",
        "In the videos you looked at how you would improve Fashion MNIST using Convolutions. For your exercise see if you can improve MNIST to 99.8% accuracy or more using only a single convolutional layer and a single MaxPooling 2D. You should stop training once the accuracy goes above this amount. It should happen in less than 20 epochs, so it's ok to hard code the number of epochs for training, but your training must end once it hits the above metric. If it doesn't, then you'll need to redesign your layers.\n",
        "\n",
        "When 99.8% accuracy has been hit, you should print out the string \"Reached 99.8% accuracy so cancelling training!\"\n"
      ]
    },
    {
      "cell_type": "code",
      "metadata": {
        "id": "sfQRyaJWAIdg",
        "colab_type": "code",
        "colab": {}
      },
      "source": [
        "import tensorflow as tf\n",
        "\n",
        "class myCallback(tf.keras.callbacks.Callback):\n",
        "  def on_epoch_end(self, epoch, logs={}):\n",
        "    if(logs.get('acc')>0.998):\n",
        "      print(\"\\nReached 99.8% accuracy so cancelling training!\")\n",
        "      self.model.stop_training = True\n",
        "\n",
        "mnist = tf.keras.datasets.mnist\n",
        "(training_images, training_labels), (test_images, test_labels) = mnist.load_data()\n",
        "\n",
        "training_images=training_images.reshape(60000, 28, 28, 1)\n",
        "training_images=training_images / 255.0\n",
        "test_images = test_images.reshape(10000, 28, 28, 1)\n",
        "test_images=test_images/255.0"
      ],
      "execution_count": 0,
      "outputs": []
    },
    {
      "cell_type": "code",
      "metadata": {
        "id": "I1KtRNsfsUPA",
        "colab_type": "code",
        "colab": {
          "base_uri": "https://localhost:8080/",
          "height": 797
        },
        "outputId": "afa36eaf-ffff-48a3-abcd-8c69d0ae3a4d"
      },
      "source": [
        "callbacks = myCallback()\n",
        "model = tf.keras.models.Sequential([\n",
        "    tf.keras.layers.Conv2D(64, (3,3), activation='relu', input_shape=(28, 28, 1), padding = \"same\"),\n",
        "    tf.keras.layers.MaxPooling2D(2, 2),\n",
        "    tf.keras.layers.Flatten(),\n",
        "    tf.keras.layers.Dense(64, activation = tf.nn.relu),\n",
        "    tf.keras.layers.Dense(10, activation = tf.nn.softmax)\n",
        "\n",
        "])\n",
        "\n",
        "model.compile(optimizer='adam', loss='sparse_categorical_crossentropy', metrics=['accuracy'])\n",
        "model.summary()\n",
        "model.fit(training_images, training_labels, epochs = 20, batch_size = 128, callbacks = [callbacks], validation_split = 0.1)\n"
      ],
      "execution_count": 13,
      "outputs": [
        {
          "output_type": "stream",
          "text": [
            "_________________________________________________________________\n",
            "Layer (type)                 Output Shape              Param #   \n",
            "=================================================================\n",
            "conv2d_7 (Conv2D)            (None, 28, 28, 64)        640       \n",
            "_________________________________________________________________\n",
            "max_pooling2d_7 (MaxPooling2 (None, 14, 14, 64)        0         \n",
            "_________________________________________________________________\n",
            "flatten_6 (Flatten)          (None, 12544)             0         \n",
            "_________________________________________________________________\n",
            "dense_12 (Dense)             (None, 64)                802880    \n",
            "_________________________________________________________________\n",
            "dense_13 (Dense)             (None, 10)                650       \n",
            "=================================================================\n",
            "Total params: 804,170\n",
            "Trainable params: 804,170\n",
            "Non-trainable params: 0\n",
            "_________________________________________________________________\n",
            "Train on 54000 samples, validate on 6000 samples\n",
            "Epoch 1/20\n",
            "54000/54000 [==============================] - 4s 82us/sample - loss: 0.2326 - acc: 0.9328 - val_loss: 0.0723 - val_acc: 0.9808\n",
            "Epoch 2/20\n",
            "54000/54000 [==============================] - 4s 76us/sample - loss: 0.0710 - acc: 0.9795 - val_loss: 0.0593 - val_acc: 0.9833\n",
            "Epoch 3/20\n",
            "54000/54000 [==============================] - 4s 77us/sample - loss: 0.0501 - acc: 0.9852 - val_loss: 0.0547 - val_acc: 0.9847\n",
            "Epoch 4/20\n",
            "54000/54000 [==============================] - 4s 76us/sample - loss: 0.0381 - acc: 0.9882 - val_loss: 0.0502 - val_acc: 0.9865\n",
            "Epoch 5/20\n",
            "54000/54000 [==============================] - 4s 76us/sample - loss: 0.0286 - acc: 0.9913 - val_loss: 0.0688 - val_acc: 0.9822\n",
            "Epoch 6/20\n",
            "54000/54000 [==============================] - 4s 76us/sample - loss: 0.0233 - acc: 0.9923 - val_loss: 0.0503 - val_acc: 0.9870\n",
            "Epoch 7/20\n",
            "54000/54000 [==============================] - 4s 76us/sample - loss: 0.0185 - acc: 0.9943 - val_loss: 0.0592 - val_acc: 0.9852\n",
            "Epoch 8/20\n",
            "54000/54000 [==============================] - 4s 76us/sample - loss: 0.0141 - acc: 0.9959 - val_loss: 0.0522 - val_acc: 0.9867\n",
            "Epoch 9/20\n",
            "54000/54000 [==============================] - 4s 76us/sample - loss: 0.0110 - acc: 0.9970 - val_loss: 0.0514 - val_acc: 0.9872\n",
            "Epoch 10/20\n",
            "54000/54000 [==============================] - 4s 76us/sample - loss: 0.0090 - acc: 0.9975 - val_loss: 0.0685 - val_acc: 0.9840\n",
            "Epoch 11/20\n",
            "54000/54000 [==============================] - 4s 75us/sample - loss: 0.0075 - acc: 0.9977 - val_loss: 0.0609 - val_acc: 0.9860\n",
            "Epoch 12/20\n",
            "53504/54000 [============================>.] - ETA: 0s - loss: 0.0066 - acc: 0.9981\n",
            "Reached 99.8% accuracy so cancelling training!\n",
            "54000/54000 [==============================] - 4s 76us/sample - loss: 0.0067 - acc: 0.9981 - val_loss: 0.0563 - val_acc: 0.9877\n"
          ],
          "name": "stdout"
        },
        {
          "output_type": "execute_result",
          "data": {
            "text/plain": [
              "<tensorflow.python.keras.callbacks.History at 0x7ff02cda9f98>"
            ]
          },
          "metadata": {
            "tags": []
          },
          "execution_count": 13
        }
      ]
    },
    {
      "cell_type": "code",
      "metadata": {
        "id": "ixP5DEE1sW6v",
        "colab_type": "code",
        "colab": {
          "base_uri": "https://localhost:8080/",
          "height": 52
        },
        "outputId": "dd2bc217-d9e1-426c-9806-cf99d5c42d27"
      },
      "source": [
        "model.evaluate(test_images, test_labels)"
      ],
      "execution_count": 6,
      "outputs": [
        {
          "output_type": "stream",
          "text": [
            "10000/10000 [==============================] - 1s 79us/sample - loss: 0.0429 - acc: 0.9856\n"
          ],
          "name": "stdout"
        },
        {
          "output_type": "execute_result",
          "data": {
            "text/plain": [
              "[0.04294093704521656, 0.9856]"
            ]
          },
          "metadata": {
            "tags": []
          },
          "execution_count": 6
        }
      ]
    }
  ]
}